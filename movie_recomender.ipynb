{
 "cells": [
  {
   "cell_type": "markdown",
   "metadata": {},
   "source": [
    "# Recommendations Engine For Movies"
   ]
  },
  {
   "cell_type": "markdown",
   "metadata": {},
   "source": [
    "The moving rating data used in this excercise was taken from [Grouplens](https://grouplens.org/datasets/movielens/)."
   ]
  },
  {
   "cell_type": "markdown",
   "metadata": {},
   "source": [
    "## Importing some Libraries"
   ]
  },
  {
   "cell_type": "code",
   "execution_count": 1,
   "metadata": {
    "collapsed": true
   },
   "outputs": [],
   "source": [
    "import pandas as pd\n",
    "import numpy as np\n",
    "import os\n",
    "import re\n",
    "from collections import Counter\n",
    "from scipy.sparse.linalg import svds\n",
    "from numpy.linalg import norm"
   ]
  },
  {
   "cell_type": "markdown",
   "metadata": {},
   "source": [
    "## Extracting Titles from Reviews"
   ]
  },
  {
   "cell_type": "code",
   "execution_count": 2,
   "metadata": {
    "collapsed": true
   },
   "outputs": [],
   "source": [
    "class DataLoader:\n",
    "    base_dir = \"./cornell-data/scale_whole_review/scale_whole_review/{}/txt.parag\"\n",
    "    review_titles = {}\n",
    "    \n",
    "    def __init__(self, name):\n",
    "        self.name = name\n",
    "        if name == \"Dennis+Schwartz\":\n",
    "            self.title_setter = self.title_setter_by_director_token\n",
    "        else:\n",
    "            self.title_setter = self.title_setter_by_frequence\n",
    "    \n",
    "    def filling_reviews_titles(self):\n",
    "        directory = self.base_dir.format(self.name)\n",
    "        #Selecting an title setter:\n",
    "        review_files = os.listdir(directory)\n",
    "        for review_file in review_files:\n",
    "            review_text = self.open_file(directory,review_file)\n",
    "            review_id = int(re.split(\"\\.\",review_file)[0])\n",
    "            s = self.title_setter(review_text, review_id)\n",
    "            \n",
    "    def open_file(self,directory,review_file):\n",
    "        with open(\"{}/{}\".format(directory,review_file), \"rb\") as file:\n",
    "            text_review = file.read().decode('utf-8',errors='ignore')\n",
    "        return text_review\n",
    "    \n",
    "    def title_setter_by_director_token(self,review_text, review_id): \n",
    "        try:\n",
    "            title = re.findall('([A-Z,.\\:\\-\\!\\/\\'\\s\\d]+)\\s+.*\\([dD]irect', review_text)\n",
    "            self.review_titles[review_id] = re.split(\"\\,\",title[0])[0]\n",
    "        except:\n",
    "            pass\n",
    "\n",
    "    def title_setter_by_frequence(self,review_text, review_id):\n",
    "        try:\n",
    "            words_array = re.findall('([A-Z][A-Z\\:\\-\\!\\/\\'\\s\\d]+) [a-z]',review_text)\n",
    "            title = Counter(words_array).most_common(1)[0][0]\n",
    "            self.review_titles[review_id] = title\n",
    "        except:\n",
    "            pass"
   ]
  },
  {
   "cell_type": "code",
   "execution_count": 3,
   "metadata": {
    "collapsed": true
   },
   "outputs": [],
   "source": [
    "names = [\"Dennis+Schwartz\",\"James+Berardinelli\",\"Scott+Renshaw\",\"Steve+Rhodes\"]\n",
    "for name in names:\n",
    "    data_loader = DataLoader(name)\n",
    "    data_loader.filling_reviews_titles()"
   ]
  },
  {
   "cell_type": "markdown",
   "metadata": {},
   "source": [
    "## Creating a Movies DataFrame"
   ]
  },
  {
   "cell_type": "code",
   "execution_count": 4,
   "metadata": {
    "collapsed": true
   },
   "outputs": [],
   "source": [
    "movies_df = pd.DataFrame([DataLoader.review_titles],index=[\"movieId\"]).T\n",
    "movies_df.reset_index(inplace=True)\n",
    "movies_df.rename(columns={\"index\":\"reviewId\"},inplace=True)\n",
    "movies_df[\"title\"] = movies_df[\"movieId\"]"
   ]
  },
  {
   "cell_type": "markdown",
   "metadata": {},
   "source": [
    "## Creating a Ratings DataFrame"
   ]
  },
  {
   "cell_type": "code",
   "execution_count": 5,
   "metadata": {
    "collapsed": true
   },
   "outputs": [],
   "source": [
    "id_base_dir = \"./cornell-data/scale_data/scaledata/{}/id.{}\"\n",
    "rating_base_dir = \"./cornell-data/scale_data/scaledata/{}/rating.{}\"\n",
    "ratings = pd.DataFrame([],columns=[\"reviewId\",\"rating\",\"userId\"])\n",
    "for name in names:\n",
    "    rates = pd.read_table(rating_base_dir.format(name,name),names=[\"rating\"])\n",
    "    ids = pd.read_table(id_base_dir.format(name,name),names=[\"reviewId\"])\n",
    "    user_ratings = pd.concat([ids,rates],axis=1)\n",
    "    user_ratings[\"userId\"] = name\n",
    "    ratings = pd.concat([ratings,user_ratings])\n",
    "ratings_df = pd.merge(ratings,movies_df, on=\"reviewId\")\n",
    "ratings_df = ratings_df.groupby([\"userId\",\"movieId\"]).head(1)"
   ]
  },
  {
   "cell_type": "markdown",
   "metadata": {},
   "source": [
    "## Creating the User Item Table"
   ]
  },
  {
   "cell_type": "markdown",
   "metadata": {},
   "source": [
    "To create the User - Item Matrix lets use a pivot table."
   ]
  },
  {
   "cell_type": "code",
   "execution_count": 22,
   "metadata": {},
   "outputs": [
    {
     "data": {
      "text/html": [
       "<div>\n",
       "<style>\n",
       "    .dataframe thead tr:only-child th {\n",
       "        text-align: right;\n",
       "    }\n",
       "\n",
       "    .dataframe thead th {\n",
       "        text-align: left;\n",
       "    }\n",
       "\n",
       "    .dataframe tbody tr th {\n",
       "        vertical-align: top;\n",
       "    }\n",
       "</style>\n",
       "<table border=\"1\" class=\"dataframe\">\n",
       "  <thead>\n",
       "    <tr style=\"text-align: right;\">\n",
       "      <th>movieId</th>\n",
       "      <th>UNMADE BEDS</th>\n",
       "      <th>13TH LETTER</th>\n",
       "      <th>15 MINUTES</th>\n",
       "      <th>200 CIGARETTES</th>\n",
       "      <th>2001: A SPACE ODYSSEY</th>\n",
       "      <th>3000 MILES TO GRACELAND</th>\n",
       "      <th>4D MAN</th>\n",
       "      <th>711 OCEAN DRIVE</th>\n",
       "      <th>8 1/2 WOMEN</th>\n",
       "      <th>8MM</th>\n",
       "      <th>...</th>\n",
       "      <th>YOU ONLY LIVE TWICE</th>\n",
       "      <th>YOU'VE GOT MAIL</th>\n",
       "      <th>YOUNG GIRLS OF ROCHEFORT</th>\n",
       "      <th>YOUR FRIENDS AND NEIGHBORS</th>\n",
       "      <th>Z</th>\n",
       "      <th>ZABRISKIE POINT</th>\n",
       "      <th>ZERO EFFECT</th>\n",
       "      <th>ZIP</th>\n",
       "      <th>ZOOLANDER</th>\n",
       "      <th>ZULU</th>\n",
       "    </tr>\n",
       "    <tr>\n",
       "      <th>userId</th>\n",
       "      <th></th>\n",
       "      <th></th>\n",
       "      <th></th>\n",
       "      <th></th>\n",
       "      <th></th>\n",
       "      <th></th>\n",
       "      <th></th>\n",
       "      <th></th>\n",
       "      <th></th>\n",
       "      <th></th>\n",
       "      <th></th>\n",
       "      <th></th>\n",
       "      <th></th>\n",
       "      <th></th>\n",
       "      <th></th>\n",
       "      <th></th>\n",
       "      <th></th>\n",
       "      <th></th>\n",
       "      <th></th>\n",
       "      <th></th>\n",
       "      <th></th>\n",
       "    </tr>\n",
       "  </thead>\n",
       "  <tbody>\n",
       "    <tr>\n",
       "      <th>Dennis+Schwartz</th>\n",
       "      <td>0.7</td>\n",
       "      <td>0.4</td>\n",
       "      <td>0.4</td>\n",
       "      <td>0.3</td>\n",
       "      <td>0.9</td>\n",
       "      <td>0.3</td>\n",
       "      <td>0.5</td>\n",
       "      <td>0.5</td>\n",
       "      <td>0.3</td>\n",
       "      <td>0.4</td>\n",
       "      <td>...</td>\n",
       "      <td>-1.00</td>\n",
       "      <td>-1.0</td>\n",
       "      <td>0.8</td>\n",
       "      <td>-1.0</td>\n",
       "      <td>0.5</td>\n",
       "      <td>0.8</td>\n",
       "      <td>0.6</td>\n",
       "      <td>-1.0</td>\n",
       "      <td>-1.0</td>\n",
       "      <td>0.8</td>\n",
       "    </tr>\n",
       "    <tr>\n",
       "      <th>James+Berardinelli</th>\n",
       "      <td>-1.0</td>\n",
       "      <td>-1.0</td>\n",
       "      <td>-1.0</td>\n",
       "      <td>-1.0</td>\n",
       "      <td>-1.0</td>\n",
       "      <td>-1.0</td>\n",
       "      <td>-1.0</td>\n",
       "      <td>-1.0</td>\n",
       "      <td>-1.0</td>\n",
       "      <td>-1.0</td>\n",
       "      <td>...</td>\n",
       "      <td>0.63</td>\n",
       "      <td>-1.0</td>\n",
       "      <td>-1.0</td>\n",
       "      <td>-1.0</td>\n",
       "      <td>-1.0</td>\n",
       "      <td>-1.0</td>\n",
       "      <td>0.6</td>\n",
       "      <td>-1.0</td>\n",
       "      <td>-1.0</td>\n",
       "      <td>-1.0</td>\n",
       "    </tr>\n",
       "    <tr>\n",
       "      <th>Scott+Renshaw</th>\n",
       "      <td>-1.0</td>\n",
       "      <td>-1.0</td>\n",
       "      <td>-1.0</td>\n",
       "      <td>-1.0</td>\n",
       "      <td>-1.0</td>\n",
       "      <td>-1.0</td>\n",
       "      <td>-1.0</td>\n",
       "      <td>-1.0</td>\n",
       "      <td>-1.0</td>\n",
       "      <td>-1.0</td>\n",
       "      <td>...</td>\n",
       "      <td>-1.00</td>\n",
       "      <td>0.7</td>\n",
       "      <td>-1.0</td>\n",
       "      <td>-1.0</td>\n",
       "      <td>-1.0</td>\n",
       "      <td>-1.0</td>\n",
       "      <td>-1.0</td>\n",
       "      <td>-1.0</td>\n",
       "      <td>-1.0</td>\n",
       "      <td>-1.0</td>\n",
       "    </tr>\n",
       "    <tr>\n",
       "      <th>Steve+Rhodes</th>\n",
       "      <td>-1.0</td>\n",
       "      <td>-1.0</td>\n",
       "      <td>-1.0</td>\n",
       "      <td>-1.0</td>\n",
       "      <td>-1.0</td>\n",
       "      <td>-1.0</td>\n",
       "      <td>-1.0</td>\n",
       "      <td>-1.0</td>\n",
       "      <td>-1.0</td>\n",
       "      <td>-1.0</td>\n",
       "      <td>...</td>\n",
       "      <td>0.70</td>\n",
       "      <td>0.8</td>\n",
       "      <td>-1.0</td>\n",
       "      <td>0.8</td>\n",
       "      <td>-1.0</td>\n",
       "      <td>-1.0</td>\n",
       "      <td>-1.0</td>\n",
       "      <td>0.7</td>\n",
       "      <td>0.8</td>\n",
       "      <td>-1.0</td>\n",
       "    </tr>\n",
       "  </tbody>\n",
       "</table>\n",
       "<p>4 rows × 3217 columns</p>\n",
       "</div>"
      ],
      "text/plain": [
       "movieId             \\nUNMADE BEDS  13TH LETTER  15 MINUTES  200 CIGARETTES  \\\n",
       "userId                                                                       \n",
       "Dennis+Schwartz               0.7          0.4         0.4             0.3   \n",
       "James+Berardinelli           -1.0         -1.0        -1.0            -1.0   \n",
       "Scott+Renshaw                -1.0         -1.0        -1.0            -1.0   \n",
       "Steve+Rhodes                 -1.0         -1.0        -1.0            -1.0   \n",
       "\n",
       "movieId             2001: A SPACE ODYSSEY  3000 MILES TO GRACELAND  4D MAN  \\\n",
       "userId                                                                       \n",
       "Dennis+Schwartz                       0.9                      0.3     0.5   \n",
       "James+Berardinelli                   -1.0                     -1.0    -1.0   \n",
       "Scott+Renshaw                        -1.0                     -1.0    -1.0   \n",
       "Steve+Rhodes                         -1.0                     -1.0    -1.0   \n",
       "\n",
       "movieId             711 OCEAN DRIVE  8 1/2 WOMEN  8MM  ...   \\\n",
       "userId                                                 ...    \n",
       "Dennis+Schwartz                 0.5          0.3  0.4  ...    \n",
       "James+Berardinelli             -1.0         -1.0 -1.0  ...    \n",
       "Scott+Renshaw                  -1.0         -1.0 -1.0  ...    \n",
       "Steve+Rhodes                   -1.0         -1.0 -1.0  ...    \n",
       "\n",
       "movieId             YOU ONLY LIVE TWICE  YOU'VE GOT MAIL  \\\n",
       "userId                                                     \n",
       "Dennis+Schwartz                   -1.00             -1.0   \n",
       "James+Berardinelli                 0.63             -1.0   \n",
       "Scott+Renshaw                     -1.00              0.7   \n",
       "Steve+Rhodes                       0.70              0.8   \n",
       "\n",
       "movieId             YOUNG GIRLS OF ROCHEFORT  YOUR FRIENDS AND NEIGHBORS    Z  \\\n",
       "userId                                                                          \n",
       "Dennis+Schwartz                          0.8                        -1.0  0.5   \n",
       "James+Berardinelli                      -1.0                        -1.0 -1.0   \n",
       "Scott+Renshaw                           -1.0                        -1.0 -1.0   \n",
       "Steve+Rhodes                            -1.0                         0.8 -1.0   \n",
       "\n",
       "movieId             ZABRISKIE POINT  ZERO EFFECT  ZIP  ZOOLANDER  ZULU  \n",
       "userId                                                                  \n",
       "Dennis+Schwartz                 0.8          0.6 -1.0       -1.0   0.8  \n",
       "James+Berardinelli             -1.0          0.6 -1.0       -1.0  -1.0  \n",
       "Scott+Renshaw                  -1.0         -1.0 -1.0       -1.0  -1.0  \n",
       "Steve+Rhodes                   -1.0         -1.0  0.7        0.8  -1.0  \n",
       "\n",
       "[4 rows x 3217 columns]"
      ]
     },
     "execution_count": 22,
     "metadata": {},
     "output_type": "execute_result"
    }
   ],
   "source": [
    "R_df = ratings_df.pivot(index=\"userId\", columns=\"movieId\", values=\"rating\").fillna(-1)\n",
    "R_df"
   ]
  },
  {
   "cell_type": "markdown",
   "metadata": {},
   "source": [
    "## Low Rank Matrix Factorization (Singular Value Decomposition)"
   ]
  },
  {
   "cell_type": "code",
   "execution_count": 17,
   "metadata": {
    "collapsed": true
   },
   "outputs": [],
   "source": [
    "R = R_df.as_matrix()\n",
    "U,sigma,Vt = svds(R,k=np.min([(np.min(R.shape)-1)]))"
   ]
  },
  {
   "cell_type": "markdown",
   "metadata": {},
   "source": [
    "### Selecting a User and a Number of recommendations"
   ]
  },
  {
   "cell_type": "code",
   "execution_count": 41,
   "metadata": {
    "collapsed": true
   },
   "outputs": [],
   "source": [
    "user = \"Steve+Rhodes\"\n",
    "number_of_recommendations = 5"
   ]
  },
  {
   "cell_type": "code",
   "execution_count": 42,
   "metadata": {},
   "outputs": [],
   "source": [
    "ratings = R_df.loc[user]\n",
    "best_ranked_movies = ratings[ratings>0.7].sort_values(ascending=False).head(10)"
   ]
  },
  {
   "cell_type": "code",
   "execution_count": 43,
   "metadata": {
    "collapsed": true
   },
   "outputs": [],
   "source": [
    "Vt_df = pd.DataFrame(Vt,columns=R_df.columns)"
   ]
  },
  {
   "cell_type": "code",
   "execution_count": 44,
   "metadata": {},
   "outputs": [],
   "source": [
    "unseen_movies = Vt_df[R_df.columns[ratings == -1]]"
   ]
  },
  {
   "cell_type": "markdown",
   "metadata": {},
   "source": [
    "### Calculating distances"
   ]
  },
  {
   "cell_type": "code",
   "execution_count": 45,
   "metadata": {
    "scrolled": true
   },
   "outputs": [],
   "source": [
    "differences = []\n",
    "for movie in Vt_df[best_ranked_movies.index].items():\n",
    "    differences.append(unseen_movies.apply(lambda x: norm(x-movie[1])).values)\n",
    "distances = pd.DataFrame(differences,columns=unseen_movies.columns)"
   ]
  },
  {
   "cell_type": "markdown",
   "metadata": {},
   "source": [
    "### Making some recommendations"
   ]
  },
  {
   "cell_type": "code",
   "execution_count": 46,
   "metadata": {},
   "outputs": [
    {
     "data": {
      "text/plain": [
       "['HITMAN HART: WRESTLING WITH SHADOWS',\n",
       " 'GLENN GOULD',\n",
       " 'HUNCHBACK',\n",
       " 'THE LAST PICTURE SHOW',\n",
       " 'FRAT HOUSE']"
      ]
     },
     "execution_count": 46,
     "metadata": {},
     "output_type": "execute_result"
    }
   ],
   "source": [
    "list(distances.min().sort_values().head(number_of_recommendations).index)"
   ]
  },
  {
   "cell_type": "markdown",
   "metadata": {},
   "source": [
    "## How to execute it"
   ]
  },
  {
   "cell_type": "markdown",
   "metadata": {},
   "source": [
    "All this algoritm for a movie recommendation system is implemented in a python script. Below command executes the movies recommendation engine for the user with id 2, it making 6 recommendations, and showing the top 8 historical ratings.\n",
    "```bash\n",
    "python recommender.py '{\"user id\":2, \"Recommendation limit\": 3, \"Historical limit\":8}'\n",
    "```"
   ]
  },
  {
   "cell_type": "markdown",
   "metadata": {},
   "source": [
    "## References"
   ]
  },
  {
   "cell_type": "markdown",
   "metadata": {},
   "source": [
    "1. [Generals on movies recommendation systems.](https://blog.statsbot.co/recommendation-system-algorithms-ba67f39ac9a3)\n",
    "1. [Matrix factorization recommender.](https://beckernick.github.io/matrix-factorization-recommender/)\n",
    "2. [A movie recommendation system inplemented on Spark.](https://www.packtpub.com/books/content/building-recommendation-engine-spark)\n",
    "3. [About the Netflix recommendation system.](https://medium.com/netflix-techblog/netflix-recommendations-beyond-the-5-stars-part-1-55838468f429)\n",
    "4. [Performance metrics.](https://en.wikipedia.org/wiki/Information_retrieval#Precision_at_K)\n",
    "5. [Movie ratings dataset.](https://grouplens.org/datasets/movielens/)"
   ]
  }
 ],
 "metadata": {
  "kernelspec": {
   "display_name": "Python 3",
   "language": "python",
   "name": "python3"
  },
  "language_info": {
   "codemirror_mode": {
    "name": "ipython",
    "version": 3
   },
   "file_extension": ".py",
   "mimetype": "text/x-python",
   "name": "python",
   "nbconvert_exporter": "python",
   "pygments_lexer": "ipython3",
   "version": "3.6.1"
  }
 },
 "nbformat": 4,
 "nbformat_minor": 2
}
