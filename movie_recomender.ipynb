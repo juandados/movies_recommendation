{
 "cells": [
  {
   "cell_type": "markdown",
   "metadata": {},
   "source": [
    "# Recommendations Engine For Movies"
   ]
  },
  {
   "cell_type": "markdown",
   "metadata": {},
   "source": [
    "The moving rating data used in this excercise was taken from [Grouplens](https://grouplens.org/datasets/movielens/)."
   ]
  },
  {
   "cell_type": "markdown",
   "metadata": {},
   "source": [
    "## Importing Data"
   ]
  },
  {
   "cell_type": "code",
   "execution_count": 137,
   "metadata": {
    "collapsed": true
   },
   "outputs": [],
   "source": [
    "import pandas as pd\n",
    "import numpy as np\n",
    "import os\n",
    "import re\n",
    "from collections import Counter"
   ]
  },
  {
   "cell_type": "code",
   "execution_count": 138,
   "metadata": {
    "collapsed": true
   },
   "outputs": [],
   "source": [
    "base_dir = \"./cornell-data/scale_whole_review/scale_whole_review/{}/txt.parag\""
   ]
  },
  {
   "cell_type": "code",
   "execution_count": 139,
   "metadata": {
    "collapsed": true
   },
   "outputs": [],
   "source": [
    "class DataLoader:\n",
    "    base_dir = \"./cornell-data/scale_whole_review/scale_whole_review/{}/txt.parag\"\n",
    "    review_titles = {}\n",
    "    \n",
    "    def __init__(self, name):\n",
    "        self.name = name\n",
    "        if name == \"Dennis+Schwartz\":\n",
    "            self.title_setter = self.title_setter_by_director_token\n",
    "        else:\n",
    "            self.title_setter = self.title_setter_by_frequence\n",
    "    \n",
    "    def filling_reviews_titles(self):\n",
    "        directory = self.base_dir.format(self.name)\n",
    "        #Selecting an title setter:\n",
    "        review_files = os.listdir(directory)\n",
    "        for review_file in review_files:\n",
    "            review_text = self.open_file(directory,review_file)\n",
    "            review_id = int(re.split(\"\\.\",review_file)[0])\n",
    "            s = self.title_setter(review_text, review_id)\n",
    "            \n",
    "    def open_file(self,directory,review_file):\n",
    "        with open(\"{}/{}\".format(directory,review_file), \"rb\") as file:\n",
    "            text_review = file.read().decode('utf-8',errors='ignore')\n",
    "        return text_review\n",
    "    \n",
    "    def title_setter_by_director_token(self,review_text, review_id): \n",
    "        try:\n",
    "            title = re.findall('([A-Z,.\\:\\-\\!\\/\\'\\s\\d]+)\\s+.*\\([dD]irect', review_text)\n",
    "            self.review_titles[review_id] = re.split(\"\\,\",title[0])[0]\n",
    "        except:\n",
    "            pass\n",
    "\n",
    "    def title_setter_by_frequence(self,review_text, review_id):\n",
    "        try:\n",
    "            words_array = re.findall('([A-Z][A-Z\\:\\-\\!\\/\\'\\s\\d]+) [a-z]',review_text)\n",
    "            title = Counter(words_array).most_common(1)[0][0]\n",
    "            self.review_titles[review_id] = title\n",
    "        except:\n",
    "            pass"
   ]
  },
  {
   "cell_type": "code",
   "execution_count": 140,
   "metadata": {},
   "outputs": [],
   "source": [
    "names = [\"Dennis+Schwartz\",\"James+Berardinelli\",\"Scott+Renshaw\",\"Steve+Rhodes\"]\n",
    "for name in names:\n",
    "    data_loader = DataLoader(name)\n",
    "    data_loader.filling_reviews_titles()"
   ]
  },
  {
   "cell_type": "code",
   "execution_count": 148,
   "metadata": {},
   "outputs": [],
   "source": [
    "movies_df = pd.DataFrame([DataLoader.review_titles],index=[\"movieId\"]).T\n",
    "movies_df.reset_index(inplace=True)\n",
    "movies_df.rename(columns={\"index\":\"reviewId\"},inplace=True)\n",
    "movies_df[\"title\"] = movies_df[\"movieId\"]"
   ]
  },
  {
   "cell_type": "code",
   "execution_count": 142,
   "metadata": {},
   "outputs": [],
   "source": [
    "id_base_dir = \"./cornell-data/scale_data/scaledata/{}/id.{}\"\n",
    "rating_base_dir = \"./cornell-data/scale_data/scaledata/{}/rating.{}\"\n",
    "ratings = pd.DataFrame([],columns=[\"reviewId\",\"rating\",\"userId\"])\n",
    "for name in names:\n",
    "    rates = pd.read_table(rating_base_dir.format(name,name),names=[\"rating\"])\n",
    "    ids = pd.read_table(id_base_dir.format(name,name),names=[\"reviewId\"])\n",
    "    user_ratings = pd.concat([ids,rates],axis=1)\n",
    "    user_ratings[\"userId\"] = name\n",
    "    ratings = pd.concat([ratings,user_ratings])\n",
    "ratings_df = pd.merge(ratings,movies_df, on=\"reviewId\")\n",
    "ratings_df = ratings_df.groupby([\"userId\",\"movieId\"]).head(1)"
   ]
  },
  {
   "cell_type": "code",
   "execution_count": 143,
   "metadata": {
    "collapsed": true
   },
   "outputs": [],
   "source": [
    "ratings_df_1 = pd.read_csv(\"./ml-latest-small/ratings.csv\")\n",
    "movies_df_1 = pd.read_csv(\"./ml-latest-small/movies.csv\")"
   ]
  },
  {
   "cell_type": "code",
   "execution_count": 145,
   "metadata": {},
   "outputs": [
    {
     "data": {
      "text/html": [
       "<div>\n",
       "<style>\n",
       "    .dataframe thead tr:only-child th {\n",
       "        text-align: right;\n",
       "    }\n",
       "\n",
       "    .dataframe thead th {\n",
       "        text-align: left;\n",
       "    }\n",
       "\n",
       "    .dataframe tbody tr th {\n",
       "        vertical-align: top;\n",
       "    }\n",
       "</style>\n",
       "<table border=\"1\" class=\"dataframe\">\n",
       "  <thead>\n",
       "    <tr style=\"text-align: right;\">\n",
       "      <th></th>\n",
       "      <th>reviewId</th>\n",
       "      <th>movieId</th>\n",
       "    </tr>\n",
       "  </thead>\n",
       "  <tbody>\n",
       "    <tr>\n",
       "      <th>0</th>\n",
       "      <td>1858</td>\n",
       "      <td>THE SANDLOT</td>\n",
       "    </tr>\n",
       "    <tr>\n",
       "      <th>1</th>\n",
       "      <td>1859</td>\n",
       "      <td>RIFF-RAFF</td>\n",
       "    </tr>\n",
       "  </tbody>\n",
       "</table>\n",
       "</div>"
      ],
      "text/plain": [
       "   reviewId      movieId\n",
       "0      1858  THE SANDLOT\n",
       "1      1859    RIFF-RAFF"
      ]
     },
     "execution_count": 145,
     "metadata": {},
     "output_type": "execute_result"
    }
   ],
   "source": [
    "movies_df.head(2)"
   ]
  },
  {
   "cell_type": "code",
   "execution_count": 147,
   "metadata": {},
   "outputs": [
    {
     "data": {
      "text/html": [
       "<div>\n",
       "<style>\n",
       "    .dataframe thead tr:only-child th {\n",
       "        text-align: right;\n",
       "    }\n",
       "\n",
       "    .dataframe thead th {\n",
       "        text-align: left;\n",
       "    }\n",
       "\n",
       "    .dataframe tbody tr th {\n",
       "        vertical-align: top;\n",
       "    }\n",
       "</style>\n",
       "<table border=\"1\" class=\"dataframe\">\n",
       "  <thead>\n",
       "    <tr style=\"text-align: right;\">\n",
       "      <th></th>\n",
       "      <th>movieId</th>\n",
       "      <th>title</th>\n",
       "      <th>genres</th>\n",
       "    </tr>\n",
       "  </thead>\n",
       "  <tbody>\n",
       "    <tr>\n",
       "      <th>0</th>\n",
       "      <td>1</td>\n",
       "      <td>Toy Story (1995)</td>\n",
       "      <td>Adventure|Animation|Children|Comedy|Fantasy</td>\n",
       "    </tr>\n",
       "    <tr>\n",
       "      <th>1</th>\n",
       "      <td>2</td>\n",
       "      <td>Jumanji (1995)</td>\n",
       "      <td>Adventure|Children|Fantasy</td>\n",
       "    </tr>\n",
       "  </tbody>\n",
       "</table>\n",
       "</div>"
      ],
      "text/plain": [
       "   movieId             title                                       genres\n",
       "0        1  Toy Story (1995)  Adventure|Animation|Children|Comedy|Fantasy\n",
       "1        2    Jumanji (1995)                   Adventure|Children|Fantasy"
      ]
     },
     "execution_count": 147,
     "metadata": {},
     "output_type": "execute_result"
    }
   ],
   "source": [
    "movies_df_1.head(2)"
   ]
  },
  {
   "cell_type": "code",
   "execution_count": 146,
   "metadata": {},
   "outputs": [
    {
     "data": {
      "text/html": [
       "<div>\n",
       "<style>\n",
       "    .dataframe thead tr:only-child th {\n",
       "        text-align: right;\n",
       "    }\n",
       "\n",
       "    .dataframe thead th {\n",
       "        text-align: left;\n",
       "    }\n",
       "\n",
       "    .dataframe tbody tr th {\n",
       "        vertical-align: top;\n",
       "    }\n",
       "</style>\n",
       "<table border=\"1\" class=\"dataframe\">\n",
       "  <thead>\n",
       "    <tr style=\"text-align: right;\">\n",
       "      <th></th>\n",
       "      <th>userId</th>\n",
       "      <th>movieId</th>\n",
       "      <th>rating</th>\n",
       "      <th>timestamp</th>\n",
       "    </tr>\n",
       "  </thead>\n",
       "  <tbody>\n",
       "    <tr>\n",
       "      <th>0</th>\n",
       "      <td>1</td>\n",
       "      <td>31</td>\n",
       "      <td>2.5</td>\n",
       "      <td>1260759144</td>\n",
       "    </tr>\n",
       "    <tr>\n",
       "      <th>1</th>\n",
       "      <td>1</td>\n",
       "      <td>1029</td>\n",
       "      <td>3.0</td>\n",
       "      <td>1260759179</td>\n",
       "    </tr>\n",
       "  </tbody>\n",
       "</table>\n",
       "</div>"
      ],
      "text/plain": [
       "   userId  movieId  rating   timestamp\n",
       "0       1       31     2.5  1260759144\n",
       "1       1     1029     3.0  1260759179"
      ]
     },
     "execution_count": 146,
     "metadata": {},
     "output_type": "execute_result"
    }
   ],
   "source": [
    "ratings_df_1.head(2)"
   ]
  },
  {
   "cell_type": "markdown",
   "metadata": {},
   "source": [
    "## Creating the User Item Table"
   ]
  },
  {
   "cell_type": "markdown",
   "metadata": {},
   "source": [
    "To create the User - Item Matrix lets use a pivot table."
   ]
  },
  {
   "cell_type": "code",
   "execution_count": 130,
   "metadata": {},
   "outputs": [
    {
     "data": {
      "text/html": [
       "<div>\n",
       "<style>\n",
       "    .dataframe thead tr:only-child th {\n",
       "        text-align: right;\n",
       "    }\n",
       "\n",
       "    .dataframe thead th {\n",
       "        text-align: left;\n",
       "    }\n",
       "\n",
       "    .dataframe tbody tr th {\n",
       "        vertical-align: top;\n",
       "    }\n",
       "</style>\n",
       "<table border=\"1\" class=\"dataframe\">\n",
       "  <thead>\n",
       "    <tr style=\"text-align: right;\">\n",
       "      <th>movieId</th>\n",
       "      <th>UNMADE BEDS</th>\n",
       "      <th>13TH LETTER</th>\n",
       "      <th>15 MINUTES</th>\n",
       "      <th>200 CIGARETTES</th>\n",
       "      <th>2001: A SPACE ODYSSEY</th>\n",
       "      <th>3000 MILES TO GRACELAND</th>\n",
       "      <th>4D MAN</th>\n",
       "      <th>711 OCEAN DRIVE</th>\n",
       "      <th>8 1/2 WOMEN</th>\n",
       "      <th>8MM</th>\n",
       "      <th>...</th>\n",
       "      <th>YOU ONLY LIVE TWICE</th>\n",
       "      <th>YOU'VE GOT MAIL</th>\n",
       "      <th>YOUNG GIRLS OF ROCHEFORT</th>\n",
       "      <th>YOUR FRIENDS AND NEIGHBORS</th>\n",
       "      <th>Z</th>\n",
       "      <th>ZABRISKIE POINT</th>\n",
       "      <th>ZERO EFFECT</th>\n",
       "      <th>ZIP</th>\n",
       "      <th>ZOOLANDER</th>\n",
       "      <th>ZULU</th>\n",
       "    </tr>\n",
       "    <tr>\n",
       "      <th>userId</th>\n",
       "      <th></th>\n",
       "      <th></th>\n",
       "      <th></th>\n",
       "      <th></th>\n",
       "      <th></th>\n",
       "      <th></th>\n",
       "      <th></th>\n",
       "      <th></th>\n",
       "      <th></th>\n",
       "      <th></th>\n",
       "      <th></th>\n",
       "      <th></th>\n",
       "      <th></th>\n",
       "      <th></th>\n",
       "      <th></th>\n",
       "      <th></th>\n",
       "      <th></th>\n",
       "      <th></th>\n",
       "      <th></th>\n",
       "      <th></th>\n",
       "      <th></th>\n",
       "    </tr>\n",
       "  </thead>\n",
       "  <tbody>\n",
       "    <tr>\n",
       "      <th>Dennis+Schwartz</th>\n",
       "      <td>0.7</td>\n",
       "      <td>0.4</td>\n",
       "      <td>0.4</td>\n",
       "      <td>0.3</td>\n",
       "      <td>0.9</td>\n",
       "      <td>0.3</td>\n",
       "      <td>0.5</td>\n",
       "      <td>0.5</td>\n",
       "      <td>0.3</td>\n",
       "      <td>0.4</td>\n",
       "      <td>...</td>\n",
       "      <td>0.00</td>\n",
       "      <td>0.0</td>\n",
       "      <td>0.8</td>\n",
       "      <td>0.0</td>\n",
       "      <td>0.5</td>\n",
       "      <td>0.8</td>\n",
       "      <td>0.6</td>\n",
       "      <td>0.0</td>\n",
       "      <td>0.0</td>\n",
       "      <td>0.8</td>\n",
       "    </tr>\n",
       "    <tr>\n",
       "      <th>James+Berardinelli</th>\n",
       "      <td>0.0</td>\n",
       "      <td>0.0</td>\n",
       "      <td>0.0</td>\n",
       "      <td>0.0</td>\n",
       "      <td>0.0</td>\n",
       "      <td>0.0</td>\n",
       "      <td>0.0</td>\n",
       "      <td>0.0</td>\n",
       "      <td>0.0</td>\n",
       "      <td>0.0</td>\n",
       "      <td>...</td>\n",
       "      <td>0.63</td>\n",
       "      <td>0.0</td>\n",
       "      <td>0.0</td>\n",
       "      <td>0.0</td>\n",
       "      <td>0.0</td>\n",
       "      <td>0.0</td>\n",
       "      <td>0.6</td>\n",
       "      <td>0.0</td>\n",
       "      <td>0.0</td>\n",
       "      <td>0.0</td>\n",
       "    </tr>\n",
       "    <tr>\n",
       "      <th>Scott+Renshaw</th>\n",
       "      <td>0.0</td>\n",
       "      <td>0.0</td>\n",
       "      <td>0.0</td>\n",
       "      <td>0.0</td>\n",
       "      <td>0.0</td>\n",
       "      <td>0.0</td>\n",
       "      <td>0.0</td>\n",
       "      <td>0.0</td>\n",
       "      <td>0.0</td>\n",
       "      <td>0.0</td>\n",
       "      <td>...</td>\n",
       "      <td>0.00</td>\n",
       "      <td>0.7</td>\n",
       "      <td>0.0</td>\n",
       "      <td>0.0</td>\n",
       "      <td>0.0</td>\n",
       "      <td>0.0</td>\n",
       "      <td>0.0</td>\n",
       "      <td>0.0</td>\n",
       "      <td>0.0</td>\n",
       "      <td>0.0</td>\n",
       "    </tr>\n",
       "    <tr>\n",
       "      <th>Steve+Rhodes</th>\n",
       "      <td>0.0</td>\n",
       "      <td>0.0</td>\n",
       "      <td>0.0</td>\n",
       "      <td>0.0</td>\n",
       "      <td>0.0</td>\n",
       "      <td>0.0</td>\n",
       "      <td>0.0</td>\n",
       "      <td>0.0</td>\n",
       "      <td>0.0</td>\n",
       "      <td>0.0</td>\n",
       "      <td>...</td>\n",
       "      <td>0.70</td>\n",
       "      <td>0.8</td>\n",
       "      <td>0.0</td>\n",
       "      <td>0.8</td>\n",
       "      <td>0.0</td>\n",
       "      <td>0.0</td>\n",
       "      <td>0.0</td>\n",
       "      <td>0.7</td>\n",
       "      <td>0.8</td>\n",
       "      <td>0.0</td>\n",
       "    </tr>\n",
       "  </tbody>\n",
       "</table>\n",
       "<p>4 rows × 3217 columns</p>\n",
       "</div>"
      ],
      "text/plain": [
       "movieId             \\nUNMADE BEDS  13TH LETTER  15 MINUTES  200 CIGARETTES  \\\n",
       "userId                                                                       \n",
       "Dennis+Schwartz               0.7          0.4         0.4             0.3   \n",
       "James+Berardinelli            0.0          0.0         0.0             0.0   \n",
       "Scott+Renshaw                 0.0          0.0         0.0             0.0   \n",
       "Steve+Rhodes                  0.0          0.0         0.0             0.0   \n",
       "\n",
       "movieId             2001: A SPACE ODYSSEY  3000 MILES TO GRACELAND  4D MAN  \\\n",
       "userId                                                                       \n",
       "Dennis+Schwartz                       0.9                      0.3     0.5   \n",
       "James+Berardinelli                    0.0                      0.0     0.0   \n",
       "Scott+Renshaw                         0.0                      0.0     0.0   \n",
       "Steve+Rhodes                          0.0                      0.0     0.0   \n",
       "\n",
       "movieId             711 OCEAN DRIVE  8 1/2 WOMEN  8MM  ...   \\\n",
       "userId                                                 ...    \n",
       "Dennis+Schwartz                 0.5          0.3  0.4  ...    \n",
       "James+Berardinelli              0.0          0.0  0.0  ...    \n",
       "Scott+Renshaw                   0.0          0.0  0.0  ...    \n",
       "Steve+Rhodes                    0.0          0.0  0.0  ...    \n",
       "\n",
       "movieId             YOU ONLY LIVE TWICE  YOU'VE GOT MAIL  \\\n",
       "userId                                                     \n",
       "Dennis+Schwartz                    0.00              0.0   \n",
       "James+Berardinelli                 0.63              0.0   \n",
       "Scott+Renshaw                      0.00              0.7   \n",
       "Steve+Rhodes                       0.70              0.8   \n",
       "\n",
       "movieId             YOUNG GIRLS OF ROCHEFORT  YOUR FRIENDS AND NEIGHBORS    Z  \\\n",
       "userId                                                                          \n",
       "Dennis+Schwartz                          0.8                         0.0  0.5   \n",
       "James+Berardinelli                       0.0                         0.0  0.0   \n",
       "Scott+Renshaw                            0.0                         0.0  0.0   \n",
       "Steve+Rhodes                             0.0                         0.8  0.0   \n",
       "\n",
       "movieId             ZABRISKIE POINT  ZERO EFFECT  ZIP  ZOOLANDER  ZULU  \n",
       "userId                                                                  \n",
       "Dennis+Schwartz                 0.8          0.6  0.0        0.0   0.8  \n",
       "James+Berardinelli              0.0          0.6  0.0        0.0   0.0  \n",
       "Scott+Renshaw                   0.0          0.0  0.0        0.0   0.0  \n",
       "Steve+Rhodes                    0.0          0.0  0.7        0.8   0.0  \n",
       "\n",
       "[4 rows x 3217 columns]"
      ]
     },
     "execution_count": 130,
     "metadata": {},
     "output_type": "execute_result"
    }
   ],
   "source": [
    "R_df = ratings_df.pivot(index=\"userId\", columns=\"movieId\", values=\"rating\").fillna(0)\n",
    "R_df"
   ]
  },
  {
   "cell_type": "markdown",
   "metadata": {},
   "source": [
    "## Singular Value Decomposition"
   ]
  },
  {
   "cell_type": "code",
   "execution_count": 127,
   "metadata": {
    "collapsed": true
   },
   "outputs": [],
   "source": [
    "R = R_df.as_matrix()\n",
    "from scipy.sparse.linalg import svds\n",
    "U,sigma,Vt = svds(R,k=np.min([(np.min(R.shape)-1),2]))"
   ]
  },
  {
   "cell_type": "markdown",
   "metadata": {},
   "source": [
    "## Making Predictions"
   ]
  },
  {
   "cell_type": "code",
   "execution_count": 128,
   "metadata": {
    "collapsed": true
   },
   "outputs": [],
   "source": [
    "all_users_predicted_ratings = np.dot(np.dot(U,np.diag(sigma)),Vt)"
   ]
  },
  {
   "cell_type": "code",
   "execution_count": 129,
   "metadata": {},
   "outputs": [
    {
     "data": {
      "text/plain": [
       "array([[ 0.08573165,  0.04898951,  0.04898951, ...,  0.19458933,\n",
       "         0.22238781,  0.09797903],\n",
       "       [-0.11150762, -0.06371864, -0.06371864, ..., -0.02265939,\n",
       "        -0.02589645, -0.12743728],\n",
       "       [ 0.04861361,  0.0277792 ,  0.0277792 , ...,  0.2115271 ,\n",
       "         0.24174525,  0.05555841],\n",
       "       [ 0.19458933,  0.1111939 ,  0.1111939 , ...,  0.54843848,\n",
       "         0.62678684,  0.22238781]])"
      ]
     },
     "execution_count": 129,
     "metadata": {},
     "output_type": "execute_result"
    }
   ],
   "source": [
    "all_users_predicted_ratings"
   ]
  },
  {
   "cell_type": "markdown",
   "metadata": {},
   "source": [
    "## How to execute it"
   ]
  },
  {
   "cell_type": "markdown",
   "metadata": {},
   "source": [
    "The below command executes the movies recommendation engine for the user with id 2, it making 6 recommendations, and showing the top 8 historical ratings.\n",
    "```bash\n",
    "python recommender.py '{\"user id\":2, \"Recommendation limit\": 3, \"Historical limit\":8}'\n",
    "```"
   ]
  },
  {
   "cell_type": "markdown",
   "metadata": {},
   "source": [
    "## References"
   ]
  },
  {
   "cell_type": "markdown",
   "metadata": {},
   "source": [
    "1. [Generals on movies recommendation systems.](https://blog.statsbot.co/recommendation-system-algorithms-ba67f39ac9a3)\n",
    "1. [Matrix factorization recommender.](https://beckernick.github.io/matrix-factorization-recommender/)\n",
    "2. [A movie recommendation system inplemented on Spark.](https://www.packtpub.com/books/content/building-recommendation-engine-spark)\n",
    "3. [About the Netflix recommendation system.](https://medium.com/netflix-techblog/netflix-recommendations-beyond-the-5-stars-part-1-55838468f429)\n",
    "4. [Performance metrics.](https://en.wikipedia.org/wiki/Information_retrieval#Precision_at_K)\n",
    "5. [Movie ratings dataset.](https://grouplens.org/datasets/movielens/)"
   ]
  }
 ],
 "metadata": {
  "kernelspec": {
   "display_name": "Python 3",
   "language": "python",
   "name": "python3"
  },
  "language_info": {
   "codemirror_mode": {
    "name": "ipython",
    "version": 3
   },
   "file_extension": ".py",
   "mimetype": "text/x-python",
   "name": "python",
   "nbconvert_exporter": "python",
   "pygments_lexer": "ipython3",
   "version": "3.6.3"
  }
 },
 "nbformat": 4,
 "nbformat_minor": 2
}
